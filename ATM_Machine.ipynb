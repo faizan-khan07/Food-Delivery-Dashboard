{
  "nbformat": 4,
  "nbformat_minor": 0,
  "metadata": {
    "colab": {
      "provenance": [],
      "authorship_tag": "ABX9TyPJXzszz6c+dI+XOi5mXETy",
      "include_colab_link": true
    },
    "kernelspec": {
      "name": "python3",
      "display_name": "Python 3"
    },
    "language_info": {
      "name": "python"
    }
  },
  "cells": [
    {
      "cell_type": "markdown",
      "metadata": {
        "id": "view-in-github",
        "colab_type": "text"
      },
      "source": [
        "<a href=\"https://colab.research.google.com/github/faizan-khan07/Food-Delivery-Dashboard/blob/main/ATM_Machine.ipynb\" target=\"_parent\"><img src=\"https://colab.research.google.com/assets/colab-badge.svg\" alt=\"Open In Colab\"/></a>"
      ]
    },
    {
      "cell_type": "code",
      "execution_count": null,
      "metadata": {
        "id": "KHYd7r57aXQL"
      },
      "outputs": [],
      "source": [
        "#ATM machine\n",
        "def auth():\n",
        "  pin=1234\n",
        "  flag=True\n",
        "  c=3\n",
        "  while flag:\n",
        "    upin=int(input())\n",
        "    if upin==pin:\n",
        "      print(\"welcome to my bank\")\n",
        "      flag=False\n",
        "      menu()\n",
        "    else:\n",
        "      c=c-1\n",
        "      print(\"you have entered wrong pin\")\n",
        "      if c==0:\n",
        "        print(\"your card is blocked\")\n",
        "        flag=False\n"
      ]
    },
    {
      "cell_type": "code",
      "source": [
        "def menu():\n",
        "  flag=True\n",
        "  while flag:\n",
        "    print(\"1.Deposite\")\n",
        "    print(\"2.withdraw\")\n",
        "    print(\"3.Balance\")\n",
        "    print(\"4.pin change\")\n",
        "    print(\"5.exit\")\n",
        "    opt=int(input(\"plz select option\"))\n",
        "\n",
        "    if opt==1:\n",
        "      print(\"your deposite\")\n",
        "      depo()\n",
        "    elif opt==2:\n",
        "      print(\"your withdraw\")\n",
        "      witdraw()\n",
        "    elif opt==3:\n",
        "      print(\"your balance\")\n",
        "      balance()\n",
        "    elif opt==4:\n",
        "      print(\"your new pin\")\n",
        "      new_pin()\n",
        "    if opt==5:\n",
        "      flag=False\n"
      ],
      "metadata": {
        "id": "vkaj5xTTg9NR"
      },
      "execution_count": null,
      "outputs": []
    },
    {
      "cell_type": "code",
      "source": [
        "bal=1000\n",
        "def depo():\n",
        "  global bal\n",
        "  amt=int(input())\n",
        "  bal=bal+amt\n",
        "  print(\"your current balance is:\",bal)\n"
      ],
      "metadata": {
        "id": "QYagcbkXiwRB"
      },
      "execution_count": null,
      "outputs": []
    },
    {
      "cell_type": "code",
      "source": [
        "def witdraw():\n",
        "  global bal\n",
        "  amt=int(input())\n",
        "  bal=bal-amt\n",
        "  print(\"your current balance is:\",bal)\n",
        "\n"
      ],
      "metadata": {
        "id": "sCGCmp3ph0gU"
      },
      "execution_count": null,
      "outputs": []
    },
    {
      "cell_type": "code",
      "source": [
        "def balance():\n",
        "  global bal\n",
        "  print(\"your account balance is\",bal)\n"
      ],
      "metadata": {
        "id": "gjGcJJtSpCpX"
      },
      "execution_count": null,
      "outputs": []
    },
    {
      "cell_type": "code",
      "source": [
        "def new_pin():\n",
        "  new_pin=int(input(\"enter new pin :\"))\n",
        "  print(\"your new_pin changed successfully\")\n",
        "\n",
        "\n"
      ],
      "metadata": {
        "id": "nC77BoJ3qU-w"
      },
      "execution_count": null,
      "outputs": []
    },
    {
      "cell_type": "code",
      "source": [
        "auth()"
      ],
      "metadata": {
        "colab": {
          "base_uri": "https://localhost:8080/"
        },
        "id": "qsOPx5rwAW-B",
        "outputId": "c589ace1-761e-46e2-d8e5-2dc6d041bca3"
      },
      "execution_count": null,
      "outputs": [
        {
          "name": "stdout",
          "output_type": "stream",
          "text": [
            "1234\n",
            "welcome to my bank\n",
            "1.Deposite\n",
            "2.withdraw\n",
            "3.Balance\n",
            "4.pin change\n",
            "5.exit\n",
            "plz select option1\n",
            "your deposite\n",
            "please enter amount for deposit500\n",
            "your current balance is: 1500\n",
            "1.Deposite\n",
            "2.withdraw\n",
            "3.Balance\n",
            "4.pin change\n",
            "5.exit\n",
            "plz select option2\n",
            "your withdraw\n",
            "please enter amount for withdraw500\n",
            "your current balance is: 1000\n",
            "1.Deposite\n",
            "2.withdraw\n",
            "3.Balance\n",
            "4.pin change\n",
            "5.exit\n",
            "plz select option3\n",
            "your balance\n",
            "your account balance is 1000\n",
            "1.Deposite\n",
            "2.withdraw\n",
            "3.Balance\n",
            "4.pin change\n",
            "5.exit\n",
            "plz select option4\n",
            "your new pin\n",
            "enter new pin :4321\n",
            "your new_pin changed successfully\n",
            "1.Deposite\n",
            "2.withdraw\n",
            "3.Balance\n",
            "4.pin change\n",
            "5.exit\n",
            "plz select option5\n"
          ]
        }
      ]
    },
    {
      "cell_type": "code",
      "source": [
        "#ATM machine\n",
        "def auth():\n",
        "  pin=1234\n",
        "  flag=True\n",
        "  c=3\n",
        "  while flag:\n",
        "    upin=int(input())\n",
        "    if upin==pin:\n",
        "      print(\"welcome to my bank\")\n",
        "      flag=False\n",
        "      menu()\n",
        "    else:\n",
        "      c=c-1\n",
        "      print(\"you have entered wrong pin\")\n",
        "      if c==0:\n",
        "        print(\"your card is blocked\")\n",
        "        flag=False\n",
        "def menu():\n",
        "  flag=True\n",
        "  while flag:\n",
        "    print(\"1.Deposite\")\n",
        "    print(\"2.withdraw\")\n",
        "    print(\"3.Balance\")\n",
        "    print(\"4.pin change\")\n",
        "    print(\"5.exit\")\n",
        "    opt=int(input(\"plz select option\"))\n",
        "\n",
        "    if opt==1:\n",
        "      print(\"your deposite\")\n",
        "      depo()\n",
        "    elif opt==2:\n",
        "      print(\"your withdraw\")\n",
        "      witdraw()\n",
        "    elif opt==3:\n",
        "      print(\"your balance\")\n",
        "      balance()\n",
        "    elif opt==4:\n",
        "      print(\"your new pin\")\n",
        "      new_pin()\n",
        "    if opt==5:\n",
        "      flag=False\n",
        "      print(\"thank you visit again\")\n",
        "bal=1000\n",
        "def depo():\n",
        "  global bal\n",
        "  amt=int(input(\"please enter amount for deposit\"))\n",
        "  bal=bal+amt\n",
        "  print(\"your current balance is:\",bal)\n",
        "def witdraw():\n",
        "  global bal\n",
        "  amt=int(input(\"please enter amount for withdraw\"))\n",
        "  bal=bal-amt\n",
        "  print(\"your current balance is:\",bal)\n",
        "def balance():\n",
        "  global bal\n",
        "  print(\"your account balance is\",bal)\n",
        "def new_pin():\n",
        "  new_pin=int(input(\"enter new pin :\"))\n",
        "  print(\"your new_pin changed successfully\")\n",
        "\n",
        "auth()\n",
        "\n"
      ],
      "metadata": {
        "colab": {
          "base_uri": "https://localhost:8080/"
        },
        "id": "5fxyVVL6BBcO",
        "outputId": "034bd803-0650-4726-e3bb-353a28fcaa9b"
      },
      "execution_count": null,
      "outputs": [
        {
          "output_type": "stream",
          "name": "stdout",
          "text": [
            "1234\n",
            "welcome to my bank\n",
            "1.Deposite\n",
            "2.withdraw\n",
            "3.Balance\n",
            "4.pin change\n",
            "5.exit\n",
            "plz select option1\n",
            "your deposite\n",
            "please enter amount for deposit500\n",
            "your current balance is: 1500\n",
            "1.Deposite\n",
            "2.withdraw\n",
            "3.Balance\n",
            "4.pin change\n",
            "5.exit\n",
            "plz select option2\n",
            "your withdraw\n",
            "please enter amount for withdraw500\n",
            "your current balance is: 1000\n",
            "1.Deposite\n",
            "2.withdraw\n",
            "3.Balance\n",
            "4.pin change\n",
            "5.exit\n",
            "plz select option3\n",
            "your balance\n",
            "your account balance is 1000\n",
            "1.Deposite\n",
            "2.withdraw\n",
            "3.Balance\n",
            "4.pin change\n",
            "5.exit\n",
            "plz select option4\n",
            "your new pin\n",
            "enter new pin :4321\n",
            "your new_pin changed successfully\n",
            "1.Deposite\n",
            "2.withdraw\n",
            "3.Balance\n",
            "4.pin change\n",
            "5.exit\n",
            "plz select option5\n",
            "thank you visit again\n"
          ]
        }
      ]
    }
  ]
}